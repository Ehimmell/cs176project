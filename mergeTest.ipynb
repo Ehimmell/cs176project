{
 "cells": [
  {
   "metadata": {
    "ExecuteTime": {
     "end_time": "2024-11-25T20:03:51.881953Z",
     "start_time": "2024-11-25T20:03:51.297068Z"
    }
   },
   "cell_type": "code",
   "source": [
    "import pandas as pd\n",
    "import numpy as np\n",
    "\n",
    "def getData(cali_path, melbourne_path, portugal_path, nrows=1000000):\n",
    "    \"\"\"\n",
    "    cali-path: str, path to california dataset\n",
    "    melbourne-path: str, path to melbourne dataset\n",
    "    portugal-path: str, path to portugal dataset\n",
    "    \"\"\"\n",
    "\n",
    "    # Read the data from all three CSV files\n",
    "    cali = pd.read_csv(cali_path, nrows=nrows)\n",
    "    melbourne = pd.read_csv(melbourne_path, nrows=nrows)\n",
    "    portugal = pd.read_csv(portugal_path, nrows=nrows)\n",
    "\n",
    "    # Map columns for each dataset to make universal names\n",
    "    cali_column_mapping = {\n",
    "        'price': 'price',\n",
    "        'city': 'city',\n",
    "        'state': 'state',\n",
    "        'streetAddress': 'street_address',\n",
    "        'bedrooms': 'bedrooms',\n",
    "        'bathrooms': 'bathrooms',\n",
    "        'buildingArea': 'building_area',\n",
    "        'livingArea': 'living_area',\n",
    "        'lotAreaUnits': 'lot_size',\n",
    "        'yearBuilt': 'year_built',\n",
    "        'longitude': 'longitude',\n",
    "        'latitude': 'latitude',\n",
    "        'parking': 'parking_spaces',\n",
    "        'garageSpaces': 'garage_spaces',\n",
    "        'levels': 'levels',\n",
    "        'pool': 'pool',\n",
    "        'homeType': 'home_type',\n",
    "        'country': 'country',\n",
    "    }\n",
    "\n",
    "    melbourne_column_mapping = {\n",
    "        'Price': 'price',\n",
    "        'Suburb': 'city',\n",
    "        'Address': 'street_address',\n",
    "        'Bedroom2': 'bedrooms',\n",
    "        'Bathroom': 'bathrooms',\n",
    "        'BuildingArea': 'building_area',\n",
    "        'Landsize': 'lot_size',\n",
    "        'YearBuilt': 'year_built',\n",
    "        'Longtitude': 'longitude',\n",
    "        'Lattitude': 'latitude',\n",
    "        'Car': 'parking_spaces',\n",
    "        'Type': 'home_type',\n",
    "    }\n",
    "\n",
    "    portugal_column_mapping = {\n",
    "        'Price': 'price',\n",
    "        'City': 'city',\n",
    "        'Town': 'town',\n",
    "        'Type': 'home_type',\n",
    "        'NumberOfBedrooms': 'bedrooms',\n",
    "        'NumberOfBathrooms': 'bathrooms',\n",
    "        'BuiltArea': 'building_area',\n",
    "        'LivingArea': 'living_area',\n",
    "        'LotSize': 'lot_size',\n",
    "        'ConstructionYear': 'year_built',\n",
    "        'Parking': 'parking_spaces',\n",
    "        'Garage': 'garage_spaces',\n",
    "        'Floor': 'levels',\n",
    "        'TotalRooms': 'total_rooms',\n",
    "    }\n",
    "\n",
    "    # Rename columns to make them universal\n",
    "    cali.rename(columns=cali_column_mapping, inplace=True)\n",
    "    melbourne.rename(columns=melbourne_column_mapping, inplace=True)\n",
    "    portugal.rename(columns=portugal_column_mapping, inplace=True)\n",
    "\n",
    "    # Add a column to each dataset to identify which dataset it came from\n",
    "    cali['frame'] = 'california'\n",
    "    melbourne['frame'] = 'melbourne'\n",
    "    portugal['frame'] = 'portugal'\n",
    "\n",
    "    # Create a set of all columns from all three datasets\n",
    "    all_columns = set(cali.columns) | set(melbourne.columns) | set(portugal.columns)\n",
    "\n",
    "    # Ensure all dataframes have the same columns\n",
    "    for df in [cali, melbourne, portugal]:\n",
    "        for col in all_columns:\n",
    "            if col not in df.columns:\n",
    "                df[col] = np.nan\n",
    "\n",
    "    # Concatenate the three datasets\n",
    "    merged_data = pd.concat([cali, melbourne, portugal], ignore_index=True, sort=False)\n",
    "\n",
    "    # Define a list of columns to drop\n",
    "    columns_to_drop = [\n",
    "        'id', 'ElectricCarsCharging', 'PublishDate', 'EnergyEfficiencyLevel', 'SellerG',\n",
    "        'ConservationStatus', 'latitude', 'longitude', 'GrossArea', 'HasParking',\n",
    "        'Propertycount', 'Regionname', 'CouncilArea', 'Date', 'country', 'Unnamed: 0',\n",
    "        'datePostedString', 'is_bankOwned', 'is_forAuction', 'event', 'time', 'state', 'zipcode',\n",
    "        'hasBadGeocode', 'description', 'currency', 'livingAreaValue', 'hasGarage', 'pool',\n",
    "        'spa', 'isNewConstruction', 'hasPetsAllowed', 'county', 'Rooms', 'Method', 'Distance',\n",
    "        'Postcode', 'NumberOfWC', 'lot_size', 'building_area'\n",
    "    ]\n",
    "\n",
    "    # Drop the columns\n",
    "    existing_columns_to_drop = [col for col in columns_to_drop if col in merged_data.columns]\n",
    "    merged_data.drop(columns=existing_columns_to_drop, inplace=True)\n",
    "\n",
    "    # Fill in missing values with median for continuous columns and mode for discrete\n",
    "    merged_data['parking_spaces'] = merged_data['parking_spaces'].fillna(0)\n",
    "    merged_data['year_built'] = merged_data['year_built'].replace(0, np.nan)\n",
    "    merged_data['year_built'] = merged_data['year_built'].fillna(merged_data['year_built'].median())\n",
    "    merged_data['price'] = merged_data['price'].fillna(merged_data['price'].median())\n",
    "    merged_data['TotalArea'] = merged_data['TotalArea'].fillna(merged_data['TotalArea'].median())\n",
    "    merged_data['Elevator'] = merged_data['Elevator'].fillna(False)\n",
    "    merged_data['District'] = merged_data['District'].fillna('Unknown')\n",
    "    merged_data['bathrooms'] = merged_data['bathrooms'].fillna(merged_data['bathrooms'].median())\n",
    "    merged_data['bedrooms'] = merged_data['bedrooms'].fillna(merged_data['bedrooms'].median())\n",
    "    merged_data['total_rooms'] = merged_data['total_rooms'].fillna(\n",
    "        merged_data['bathrooms'] + merged_data['bedrooms']\n",
    "    )\n",
    "    merged_data['street_address'] = merged_data['street_address'].fillna('Unknown')\n",
    "    merged_data['garage_spaces'] = merged_data['garage_spaces'].fillna(0)\n",
    "    merged_data['living_area'] = merged_data['living_area'].fillna(merged_data['living_area'].median())\n",
    "    merged_data['levels'] = merged_data['levels'].fillna('One Story')\n",
    "    merged_data['EnergyCertificate'] = merged_data['EnergyCertificate'].fillna(\n",
    "        merged_data['EnergyCertificate'].mode()[0]\n",
    "    )\n",
    "\n",
    "    # Return the merged data\n",
    "    return merged_data\n",
    "\n",
    "\n",
    "pre = 'datasets/'\n",
    "\n",
    "data = getData(f'{pre}real-estate-california/versions/1/RealEstate_California.csv', f'{pre}melbourne-housing-snapshot/melb_data.csv', f'{pre}portugal-real-estate-2024/versions/5/portugal_listinigs.csv')"
   ],
   "id": "d9a4d310570c7bf4",
   "outputs": [
    {
     "name": "stderr",
     "output_type": "stream",
     "text": [
      "/var/folders/w_/d53qqmyj0wz8328fp9pc12rh0000gn/T/ipykernel_35235/3205195511.py:14: DtypeWarning: Columns (6,8,12,13,14,15,16,20) have mixed types. Specify dtype option on import or set low_memory=False.\n",
      "  portugal = pd.read_csv(portugal_path, nrows=nrows)\n",
      "/var/folders/w_/d53qqmyj0wz8328fp9pc12rh0000gn/T/ipykernel_35235/3205195511.py:113: FutureWarning: Downcasting object dtype arrays on .fillna, .ffill, .bfill is deprecated and will change in a future version. Call result.infer_objects(copy=False) instead. To opt-in to the future behavior, set `pd.set_option('future.no_silent_downcasting', True)`\n",
      "  merged_data['Elevator'] = merged_data['Elevator'].fillna(False)\n"
     ]
    }
   ],
   "execution_count": 13
  },
  {
   "metadata": {
    "ExecuteTime": {
     "end_time": "2024-11-25T20:03:51.891030Z",
     "start_time": "2024-11-25T20:03:51.883467Z"
    }
   },
   "cell_type": "code",
   "source": "data['frame'].unique()",
   "id": "2426db86e2e06140",
   "outputs": [
    {
     "data": {
      "text/plain": [
       "array(['california', 'melbourne', 'portugal'], dtype=object)"
      ]
     },
     "execution_count": 14,
     "metadata": {},
     "output_type": "execute_result"
    }
   ],
   "execution_count": 14
  }
 ],
 "metadata": {
  "kernelspec": {
   "display_name": "Python 3",
   "language": "python",
   "name": "python3"
  },
  "language_info": {
   "codemirror_mode": {
    "name": "ipython",
    "version": 2
   },
   "file_extension": ".py",
   "mimetype": "text/x-python",
   "name": "python",
   "nbconvert_exporter": "python",
   "pygments_lexer": "ipython2",
   "version": "2.7.6"
  }
 },
 "nbformat": 4,
 "nbformat_minor": 5
}
